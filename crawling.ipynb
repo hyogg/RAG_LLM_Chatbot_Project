{
 "cells": [
  {
   "cell_type": "code",
   "execution_count": 1,
   "metadata": {},
   "outputs": [
    {
     "name": "stdout",
     "output_type": "stream",
     "text": [
      "Requirement already satisfied: selenium in /opt/homebrew/Caskroom/miniconda/base/envs/yeardream/lib/python3.9/site-packages (4.13.0)\n",
      "Requirement already satisfied: urllib3[socks]<3,>=1.26 in /opt/homebrew/Caskroom/miniconda/base/envs/yeardream/lib/python3.9/site-packages (from selenium) (1.26.16)\n",
      "Requirement already satisfied: trio~=0.17 in /opt/homebrew/Caskroom/miniconda/base/envs/yeardream/lib/python3.9/site-packages (from selenium) (0.22.0)\n",
      "Requirement already satisfied: trio-websocket~=0.9 in /opt/homebrew/Caskroom/miniconda/base/envs/yeardream/lib/python3.9/site-packages (from selenium) (0.10.2)\n",
      "Requirement already satisfied: certifi>=2021.10.8 in /opt/homebrew/Caskroom/miniconda/base/envs/yeardream/lib/python3.9/site-packages (from selenium) (2023.7.22)\n",
      "Requirement already satisfied: attrs>=19.2.0 in /opt/homebrew/Caskroom/miniconda/base/envs/yeardream/lib/python3.9/site-packages (from trio~=0.17->selenium) (22.1.0)\n",
      "Requirement already satisfied: sortedcontainers in /opt/homebrew/Caskroom/miniconda/base/envs/yeardream/lib/python3.9/site-packages (from trio~=0.17->selenium) (2.4.0)\n",
      "Requirement already satisfied: async-generator>=1.9 in /opt/homebrew/Caskroom/miniconda/base/envs/yeardream/lib/python3.9/site-packages (from trio~=0.17->selenium) (1.10)\n",
      "Requirement already satisfied: idna in /opt/homebrew/Caskroom/miniconda/base/envs/yeardream/lib/python3.9/site-packages (from trio~=0.17->selenium) (3.4)\n",
      "Requirement already satisfied: outcome in /opt/homebrew/Caskroom/miniconda/base/envs/yeardream/lib/python3.9/site-packages (from trio~=0.17->selenium) (1.2.0)\n",
      "Requirement already satisfied: sniffio in /opt/homebrew/Caskroom/miniconda/base/envs/yeardream/lib/python3.9/site-packages (from trio~=0.17->selenium) (1.2.0)\n",
      "Requirement already satisfied: exceptiongroup>=1.0.0rc9 in /opt/homebrew/Caskroom/miniconda/base/envs/yeardream/lib/python3.9/site-packages (from trio~=0.17->selenium) (1.1.1)\n",
      "Requirement already satisfied: wsproto>=0.14 in /opt/homebrew/Caskroom/miniconda/base/envs/yeardream/lib/python3.9/site-packages (from trio-websocket~=0.9->selenium) (1.2.0)\n",
      "Requirement already satisfied: PySocks!=1.5.7,<2.0,>=1.5.6 in /opt/homebrew/Caskroom/miniconda/base/envs/yeardream/lib/python3.9/site-packages (from urllib3[socks]<3,>=1.26->selenium) (1.7.1)\n",
      "Requirement already satisfied: h11<1,>=0.9.0 in /opt/homebrew/Caskroom/miniconda/base/envs/yeardream/lib/python3.9/site-packages (from wsproto>=0.14->trio-websocket~=0.9->selenium) (0.14.0)\n"
     ]
    }
   ],
   "source": [
    "# !pip install selenium"
   ]
  },
  {
   "cell_type": "code",
   "execution_count": 2,
   "metadata": {},
   "outputs": [],
   "source": [
    "# !pip install webdriver-manager"
   ]
  },
  {
   "cell_type": "code",
   "execution_count": 3,
   "metadata": {},
   "outputs": [
    {
     "name": "stdout",
     "output_type": "stream",
     "text": [
      "Requirement already satisfied: openpyxl in /opt/homebrew/Caskroom/miniconda/base/envs/yeardream/lib/python3.9/site-packages (3.1.2)\n",
      "Requirement already satisfied: et-xmlfile in /opt/homebrew/Caskroom/miniconda/base/envs/yeardream/lib/python3.9/site-packages (from openpyxl) (1.1.0)\n"
     ]
    }
   ],
   "source": [
    "# !pip install openpyxl"
   ]
  },
  {
   "cell_type": "code",
   "execution_count": 3,
   "metadata": {},
   "outputs": [
    {
     "data": {
      "text/plain": [
       "'4.11.2'"
      ]
     },
     "execution_count": 3,
     "metadata": {},
     "output_type": "execute_result"
    }
   ],
   "source": [
    "import selenium\n",
    "selenium.__version__"
   ]
  },
  {
   "cell_type": "code",
   "execution_count": 34,
   "metadata": {},
   "outputs": [
    {
     "name": "stdout",
     "output_type": "stream",
     "text": [
      "31\n",
      "[{'link': '청동 초두, 무덤이 아닌 성벽 속에서 발견되다', 'title': '청동 초두, 무덤이 아닌 성벽 속에서 발견되다', 'con/era': '삼국시대 (백제, 4~5세기)', 'size/num': '입지름 14.6cm, 16.5cm\\n본관9954, 본관9955'}, {'link': '《삼현수간첩(三賢手簡帖)》 - 세 선비의 마음을 담은 편지', 'title': '《삼현수간첩(三賢手簡帖)》 - 세 선비의 마음을 담은 편지', 'con/era': '조선 (1560~1593년 작성, 1599년 편집)', 'size/num': '38.5*27.5cm\\n보물\\n건희 52'}, {'link': '『광해군일기』 - 묘호(廟號)를 받지 못한 임금의 역사', 'title': '『광해군일기』 - 묘호(廟號)를 받지 못한 임금의 역사', 'con/era': '조선 (1634년)', 'size/num': '44.5*31.0cm\\n국보\\n구 4760'}, {'link': '백제 무령왕릉에서 출토된 받침 있는 은잔[銅托銀盞]', 'title': '백제 무령왕릉에서 출토된 받침 있는 은잔[銅托銀盞]', 'con/era': '백제 (529년 이전)', 'size/num': '전체 높이 12.1cm, 전체 너비 14.7cm\\n공주 672'}, {'link': '따뜻한 위로를 건네는 불화 - <감로도>', 'title': '따뜻한 위로를 건네는 불화 - <감로도>', 'con/era': '조선 (1649년)', 'size/num': '220*235cm\\n신수 2743'}, {'link': '곡식 담는 그릇 - 궤(簋, GUI)', 'title': '곡식 담는 그릇 - 궤(簋, GUI)', 'con/era': '중국 상 후기', 'size/num': '높이 14.3cm, 입지름 19.1cm, 바닥지름 15.6cm\\n구 3177'}, {'link': '영혼의 수호자 십이지신상 - 개, 호랑이, 뱀', 'title': '영혼의 수호자 십이지신상 - 개, 호랑이, 뱀', 'con/era': '중국 당', 'size/num': '높이 26.7cm, 27.8cm, 26.2cm\\n구3341, 구3342, 구3343'}, {'link': '700년 동안의 간절한 바람이 담긴 금동아미타삼존불상', 'title': '700년 동안의 간절한 바람이 담긴 금동아미타삼존불상', 'con/era': '고려 (1333년)', 'size/num': '69.25cm, 86.42cm, 88.45cm(보관 포함)\\n보물\\n덕수71, 덕수3363, 덕수3364'}, {'link': '윤봉길 의사 선서문과 유서 - 한결같은 마음[赤誠]으로 나라의 독립을 기원하다', 'title': '윤봉길 의사 선서문과 유서 - 한결같은 마음[赤誠]으로 나라의 독립을 기원하다', 'con/era': '일제강점기 (1932년)', 'size/num': '26.9*21.3cm, 27.0*21.5cm\\n보물\\n신수6269, 신수6270'}, {'link': '경주 남산 장창곡 석조미륵여래삼존상 - ‘아기 부처’라 불린 신라의 불상', 'title': '경주 남산 장창곡 석조미륵여래삼존상 - ‘아기 부처’라 불린 신라의 불상', 'con/era': '통일신라 (7세기)', 'size/num': '높이 115cm, 높이 98.4cm 등\\n보물\\n본관11965, 본관11966'}]\n"
     ]
    }
   ],
   "source": [
    "from selenium import webdriver\n",
    "from selenium.webdriver.common.by import By\n",
    "from selenium.webdriver.chrome.service import Service as ChromeService\n",
    "from webdriver_manager.chrome import ChromeDriverManager\n",
    "import time\n",
    "import pandas as pd\n",
    "\n",
    "options = webdriver.ChromeOptions()\n",
    "# 창 띄우지 않기\n",
    "# options.add_argument('--headless')\n",
    "\n",
    "driver = webdriver.Chrome(options=options)\n",
    "\n",
    "# 큐레이터 추천 소장품 검색 페이지\n",
    "base_url = f'https://www.museum.go.kr/site/main/relic/recommend/list'\n",
    "# driver(chrome) open\n",
    "driver.get(base_url)\n",
    "# 로딩\n",
    "time.sleep(2)\n",
    "\n",
    "# 마지막 페이지 얻어오기\n",
    "last_page = driver.find_element(By.CLASS_NAME, 'allPage').text.split(' ')[3]\n",
    "last_page = int(last_page)\n",
    "print(last_page)\n",
    "\n",
    "df = pd.DataFrame(columns=['link', 'title', 'con/era', 'size/num', 'content'])\n",
    "data = []\n",
    "for n in range(1, last_page+1) :\n",
    "    page_url = f'https://www.museum.go.kr/site/main/relic/recommend/list?cp={n}'\n",
    "    # 탭 생성\n",
    "    driver.execute_script(\"window.open('');\")\n",
    "    # 가장 끝 탭으로 이동\n",
    "    driver.switch_to.window(driver.window_handles[-1])\n",
    "    # 링크 이동\n",
    "    driver.get(page_url)\n",
    "    titles = driver.find_elements(By.CSS_SELECTOR, '#card1 > li > div > a')\n",
    "    conera = driver.find_elements(By.CSS_SELECTOR, '#card1 > li > div > ul > li:nth-child(1) > p')\n",
    "    sizenum = driver.find_elements(By.CSS_SELECTOR, '#card1 > li > div > ul > li:nth-child(2) > p')\n",
    "#card1 > li:nth-child(2) > div > ul > li:nth-child(1) > p\n",
    "    for i in range(len(titles)) :\n",
    "        data.append({\n",
    "            'link' : titles[i].text,\n",
    "            'title' : titles[i].text,\n",
    "            'con/era' : conera[i].text,\n",
    "            'size/num' : sizenum[i].text\n",
    "        })\n",
    "    print(data)\n",
    "    break\n",
    "#card1 > li:nth-child(2) > div > ul > li:nth-child(2) > p    \n",
    "    \n",
    "\n",
    "    \n",
    "# 소장품 검색\n",
    "# elements = driver.find_elements(By.CLASS_NAME, 'thum_box')\n",
    "# for element in elements :\n",
    "#     print(element.get_attribute('href'))\n",
    "#     link = element.get_attribute('href')\n",
    "#     driver.execute_script('window.open('');')\n",
    "#     driver.switch_to.window(driver.window_handles[-1])\n",
    "#     driver.get(link)\n",
    "#     time.sleep(2)\n",
    "\n",
    "#     try :\n",
    "#         collection_tit = driver.find_element(By.CLASS_NAME, 'outveiw-tit').text\n",
    "#     except :\n",
    "#         collection_tit = '작품명 알 수 없음'\n",
    "#     print(collection_tit)\n",
    "#     driver.close()\n",
    "#     driver.switch_to.window(driver.window_handles[0])\n",
    "#     break\n",
    "\n",
    "# # last page number 얻어오기\n",
    "# page_body = driver.find_element(By.XPATH, '//*[@id=\"contents-area\"]/div[3]/div/div[3]/div/div[2]/a[2]')\n",
    "# href_text = page_body.get_attribute('href')\n",
    "# href_num = href_text.split(\"'\")[1]\n",
    "# print(href_text)\n",
    "# print(href_num) # last page\n",
    "\n",
    "\n",
    "# for page_url in href_num  :\n",
    "# for text in page_body :\n",
    "    # href_text = text.find_element(By.XPATH, '//*[@id=\"contents-area\"]/div[3]/div/div[3]/div/div[2]/a[2]').get_attribute('href')\n",
    "    # print(href_text)"
   ]
  },
  {
   "cell_type": "code",
   "execution_count": null,
   "metadata": {},
   "outputs": [],
   "source": []
  }
 ],
 "metadata": {
  "kernelspec": {
   "display_name": "yeardream",
   "language": "python",
   "name": "python3"
  },
  "language_info": {
   "codemirror_mode": {
    "name": "ipython",
    "version": 3
   },
   "file_extension": ".py",
   "mimetype": "text/x-python",
   "name": "python",
   "nbconvert_exporter": "python",
   "pygments_lexer": "ipython3",
   "version": "3.9.16"
  }
 },
 "nbformat": 4,
 "nbformat_minor": 2
}
