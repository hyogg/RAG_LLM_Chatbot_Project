{
 "cells": [
  {
   "cell_type": "code",
   "execution_count": 1,
   "metadata": {},
   "outputs": [
    {
     "name": "stdout",
     "output_type": "stream",
     "text": [
      "Requirement already satisfied: selenium in /opt/homebrew/Caskroom/miniconda/base/envs/yeardream/lib/python3.9/site-packages (4.13.0)\n",
      "Requirement already satisfied: urllib3[socks]<3,>=1.26 in /opt/homebrew/Caskroom/miniconda/base/envs/yeardream/lib/python3.9/site-packages (from selenium) (1.26.16)\n",
      "Requirement already satisfied: trio~=0.17 in /opt/homebrew/Caskroom/miniconda/base/envs/yeardream/lib/python3.9/site-packages (from selenium) (0.22.0)\n",
      "Requirement already satisfied: trio-websocket~=0.9 in /opt/homebrew/Caskroom/miniconda/base/envs/yeardream/lib/python3.9/site-packages (from selenium) (0.10.2)\n",
      "Requirement already satisfied: certifi>=2021.10.8 in /opt/homebrew/Caskroom/miniconda/base/envs/yeardream/lib/python3.9/site-packages (from selenium) (2023.7.22)\n",
      "Requirement already satisfied: attrs>=19.2.0 in /opt/homebrew/Caskroom/miniconda/base/envs/yeardream/lib/python3.9/site-packages (from trio~=0.17->selenium) (22.1.0)\n",
      "Requirement already satisfied: sortedcontainers in /opt/homebrew/Caskroom/miniconda/base/envs/yeardream/lib/python3.9/site-packages (from trio~=0.17->selenium) (2.4.0)\n",
      "Requirement already satisfied: async-generator>=1.9 in /opt/homebrew/Caskroom/miniconda/base/envs/yeardream/lib/python3.9/site-packages (from trio~=0.17->selenium) (1.10)\n",
      "Requirement already satisfied: idna in /opt/homebrew/Caskroom/miniconda/base/envs/yeardream/lib/python3.9/site-packages (from trio~=0.17->selenium) (3.4)\n",
      "Requirement already satisfied: outcome in /opt/homebrew/Caskroom/miniconda/base/envs/yeardream/lib/python3.9/site-packages (from trio~=0.17->selenium) (1.2.0)\n",
      "Requirement already satisfied: sniffio in /opt/homebrew/Caskroom/miniconda/base/envs/yeardream/lib/python3.9/site-packages (from trio~=0.17->selenium) (1.2.0)\n",
      "Requirement already satisfied: exceptiongroup>=1.0.0rc9 in /opt/homebrew/Caskroom/miniconda/base/envs/yeardream/lib/python3.9/site-packages (from trio~=0.17->selenium) (1.1.1)\n",
      "Requirement already satisfied: wsproto>=0.14 in /opt/homebrew/Caskroom/miniconda/base/envs/yeardream/lib/python3.9/site-packages (from trio-websocket~=0.9->selenium) (1.2.0)\n",
      "Requirement already satisfied: PySocks!=1.5.7,<2.0,>=1.5.6 in /opt/homebrew/Caskroom/miniconda/base/envs/yeardream/lib/python3.9/site-packages (from urllib3[socks]<3,>=1.26->selenium) (1.7.1)\n",
      "Requirement already satisfied: h11<1,>=0.9.0 in /opt/homebrew/Caskroom/miniconda/base/envs/yeardream/lib/python3.9/site-packages (from wsproto>=0.14->trio-websocket~=0.9->selenium) (0.14.0)\n"
     ]
    }
   ],
   "source": [
    "# !pip install selenium"
   ]
  },
  {
   "cell_type": "code",
   "execution_count": 2,
   "metadata": {},
   "outputs": [],
   "source": [
    "# !pip install webdriver-manager"
   ]
  },
  {
   "cell_type": "code",
   "execution_count": 3,
   "metadata": {},
   "outputs": [
    {
     "name": "stdout",
     "output_type": "stream",
     "text": [
      "Requirement already satisfied: openpyxl in /opt/homebrew/Caskroom/miniconda/base/envs/yeardream/lib/python3.9/site-packages (3.1.2)\n",
      "Requirement already satisfied: et-xmlfile in /opt/homebrew/Caskroom/miniconda/base/envs/yeardream/lib/python3.9/site-packages (from openpyxl) (1.1.0)\n"
     ]
    }
   ],
   "source": [
    "# !pip install openpyxl"
   ]
  },
  {
   "cell_type": "code",
   "execution_count": 3,
   "metadata": {},
   "outputs": [
    {
     "data": {
      "text/plain": [
       "'4.11.2'"
      ]
     },
     "execution_count": 3,
     "metadata": {},
     "output_type": "execute_result"
    }
   ],
   "source": [
    "import selenium\n",
    "selenium.__version__"
   ]
  },
  {
   "cell_type": "code",
   "execution_count": 9,
   "metadata": {},
   "outputs": [
    {
     "name": "stdout",
     "output_type": "stream",
     "text": [
      "https://www.museum.go.kr/site/main/relic/search/view?relicId=329\n",
      "흑갈유 병\n"
     ]
    }
   ],
   "source": [
    "from selenium import webdriver\n",
    "from selenium.webdriver.common.by import By\n",
    "from selenium.webdriver.chrome.service import Service as ChromeService\n",
    "from webdriver_manager.chrome import ChromeDriverManager\n",
    "import time\n",
    "\n",
    "options = webdriver.ChromeOptions()\n",
    "# 창 띄우지 않기\n",
    "# options.add_argument('--headless')\n",
    "\n",
    "driver = webdriver.Chrome(options=options)\n",
    "\n",
    "# 소장품 검색 페이지\n",
    "urls = f'https://www.museum.go.kr/site/main/relic/search/collectionList#######'\n",
    "# driver(chrome) open\n",
    "driver.get(urls)\n",
    "\n",
    "time.sleep(2)\n",
    "#card1 > li:nth-child(12) > a\n",
    "\n",
    "elements = driver.find_elements(By.CLASS_NAME, 'thum_box')\n",
    "for element in elements :\n",
    "    print(element.get_attribute('href'))\n",
    "    link = element.get_attribute('href')\n",
    "    driver.execute_script('window.open('');')\n",
    "    driver.switch_to.window(driver.window_handles[-1])\n",
    "    driver.get(link)\n",
    "    time.sleep(2)\n",
    "\n",
    "    try :\n",
    "        collection_tit = driver.find_element(By.CLASS_NAME, 'outveiw-tit').text\n",
    "    except :\n",
    "        collection_tit = '작품명 알 수 없음'\n",
    "    print(collection_tit)\n",
    "    driver.close()\n",
    "    driver.switch_to.window(driver.window_handles[0])\n",
    "    break\n",
    "\n",
    "# # last page number 얻어오기\n",
    "# page_body = driver.find_element(By.XPATH, '//*[@id=\"contents-area\"]/div[3]/div/div[3]/div/div[2]/a[2]')\n",
    "# href_text = page_body.get_attribute('href')\n",
    "# href_num = href_text.split(\"'\")[1]\n",
    "# print(href_text)\n",
    "# print(href_num) # last page\n",
    "\n",
    "\n",
    "# for page_url in href_num  :\n",
    "# for text in page_body :\n",
    "    # href_text = text.find_element(By.XPATH, '//*[@id=\"contents-area\"]/div[3]/div/div[3]/div/div[2]/a[2]').get_attribute('href')\n",
    "    # print(href_text)"
   ]
  },
  {
   "cell_type": "code",
   "execution_count": null,
   "metadata": {},
   "outputs": [],
   "source": []
  }
 ],
 "metadata": {
  "kernelspec": {
   "display_name": "yeardream",
   "language": "python",
   "name": "python3"
  },
  "language_info": {
   "codemirror_mode": {
    "name": "ipython",
    "version": 3
   },
   "file_extension": ".py",
   "mimetype": "text/x-python",
   "name": "python",
   "nbconvert_exporter": "python",
   "pygments_lexer": "ipython3",
   "version": "3.9.16"
  }
 },
 "nbformat": 4,
 "nbformat_minor": 2
}
